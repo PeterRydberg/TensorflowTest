{
 "cells": [
  {
   "cell_type": "code",
   "execution_count": 1,
   "metadata": {},
   "outputs": [],
   "source": [
    "import tensorflow as tf\n",
    "import pandas as pd\n",
    "import numpy as np\n",
    "from sklearn import datasets"
   ]
  },
  {
   "cell_type": "code",
   "execution_count": 2,
   "metadata": {},
   "outputs": [],
   "source": [
    "FEATURE_SEPAL_LENGTH = 'SepalLength'\n",
    "FEATURE_SEPAL_WIDTH = 'SepalWidth'\n",
    "FEATURE_PETAL_LENGTH = 'PetalLength'\n",
    "FEATURE_PETAL_WIDTH = 'PetalWidth'\n",
    "LABEL = 'label'"
   ]
  },
  {
   "cell_type": "code",
   "execution_count": 3,
   "metadata": {},
   "outputs": [],
   "source": [
    "# load the data set\n",
    "iris = datasets.load_iris()\n",
    "\n",
    "iris_data_w_target = [];\n",
    "\n",
    "# add the target to the data\n",
    "for i in range(len(iris.data)):\n",
    "    value = np.append(iris.data[i], iris.target[i])\n",
    "    iris_data_w_target.append(value)"
   ]
  },
  {
   "cell_type": "code",
   "execution_count": 4,
   "metadata": {},
   "outputs": [],
   "source": [
    "columns_names = [FEATURE_SEPAL_LENGTH, FEATURE_SEPAL_WIDTH, FEATURE_PETAL_LENGTH, FEATURE_PETAL_WIDTH, LABEL]\n",
    "\n",
    "df = pd.DataFrame(data = iris_data_w_target, columns = columns_names )\n",
    "\n",
    "# shuffle our data\n",
    "df = df.sample(frac=1).reset_index(drop=True)"
   ]
  },
  {
   "cell_type": "code",
   "execution_count": 5,
   "metadata": {},
   "outputs": [],
   "source": [
    "# divide data into training and testing data (80%/20%)\n",
    "test_len = (len(df) * 20)//100;\n",
    "training_df = df[test_len:]\n",
    "test_df = df[:test_len]"
   ]
  },
  {
   "cell_type": "code",
   "execution_count": 6,
   "metadata": {},
   "outputs": [],
   "source": [
    "iris_feature_columns = [\n",
    "    tf.contrib.layers.real_valued_column(FEATURE_SEPAL_LENGTH, dimension=1, dtype=tf.float32),\n",
    "    tf.contrib.layers.real_valued_column(FEATURE_SEPAL_WIDTH, dimension=1, dtype=tf.float32),\n",
    "    tf.contrib.layers.real_valued_column(FEATURE_PETAL_LENGTH, dimension=1, dtype=tf.float32),\n",
    "    tf.contrib.layers.real_valued_column(FEATURE_PETAL_WIDTH, dimension=1, dtype=tf.float32)\n",
    "]\n",
    "\n",
    "x = {\n",
    "    FEATURE_SEPAL_LENGTH : np.array(training_df[FEATURE_SEPAL_LENGTH]),\n",
    "    FEATURE_SEPAL_WIDTH  : np.array(training_df[FEATURE_SEPAL_WIDTH]),\n",
    "    FEATURE_PETAL_LENGTH : np.array(training_df[FEATURE_PETAL_LENGTH]),\n",
    "    FEATURE_PETAL_WIDTH  : np.array(training_df[FEATURE_PETAL_WIDTH])\n",
    "}"
   ]
  },
  {
   "cell_type": "code",
   "execution_count": 7,
   "metadata": {},
   "outputs": [
    {
     "name": "stdout",
     "output_type": "stream",
     "text": [
      "INFO:tensorflow:Using default config.\n",
      "WARNING:tensorflow:Using temporary folder as model directory: C:\\Users\\camp-pry\\AppData\\Local\\Temp\\tmpm6xq0io5\n",
      "INFO:tensorflow:Using config: {'_model_dir': 'C:\\\\Users\\\\camp-pry\\\\AppData\\\\Local\\\\Temp\\\\tmpm6xq0io5', '_tf_random_seed': None, '_save_summary_steps': 100, '_save_checkpoints_steps': None, '_save_checkpoints_secs': 600, '_session_config': None, '_keep_checkpoint_max': 5, '_keep_checkpoint_every_n_hours': 10000, '_log_step_count_steps': 100, '_train_distribute': None, '_device_fn': None, '_service': None, '_cluster_spec': <tensorflow.python.training.server_lib.ClusterSpec object at 0x00000274FAB45C18>, '_task_type': 'worker', '_task_id': 0, '_global_id_in_cluster': 0, '_master': '', '_evaluation_master': '', '_is_chief': True, '_num_ps_replicas': 0, '_num_worker_replicas': 1}\n",
      "INFO:tensorflow:Calling model_fn.\n",
      "INFO:tensorflow:Done calling model_fn.\n",
      "INFO:tensorflow:Create CheckpointSaverHook.\n",
      "INFO:tensorflow:Graph was finalized.\n",
      "INFO:tensorflow:Running local_init_op.\n",
      "INFO:tensorflow:Done running local_init_op.\n",
      "INFO:tensorflow:Saving checkpoints for 0 into C:\\Users\\camp-pry\\AppData\\Local\\Temp\\tmpm6xq0io5\\model.ckpt.\n",
      "INFO:tensorflow:loss = 371.62955, step = 1\n",
      "INFO:tensorflow:global_step/sec: 390.626\n",
      "INFO:tensorflow:loss = 55.556305, step = 101 (0.259 sec)\n",
      "INFO:tensorflow:global_step/sec: 474.867\n",
      "INFO:tensorflow:loss = 40.67941, step = 201 (0.210 sec)\n",
      "INFO:tensorflow:global_step/sec: 470.405\n",
      "INFO:tensorflow:loss = 29.268703, step = 301 (0.212 sec)\n",
      "INFO:tensorflow:global_step/sec: 527.343\n",
      "INFO:tensorflow:loss = 23.26854, step = 401 (0.191 sec)\n",
      "INFO:tensorflow:global_step/sec: 524.593\n",
      "INFO:tensorflow:loss = 17.047783, step = 501 (0.189 sec)\n",
      "INFO:tensorflow:global_step/sec: 569.289\n",
      "INFO:tensorflow:loss = 13.160211, step = 601 (0.177 sec)\n",
      "INFO:tensorflow:global_step/sec: 509.907\n",
      "INFO:tensorflow:loss = 11.567235, step = 701 (0.195 sec)\n",
      "INFO:tensorflow:global_step/sec: 516.469\n",
      "INFO:tensorflow:loss = 13.302492, step = 801 (0.194 sec)\n",
      "INFO:tensorflow:global_step/sec: 446.312\n",
      "INFO:tensorflow:loss = 12.704585, step = 901 (0.225 sec)\n",
      "INFO:tensorflow:global_step/sec: 485.208\n",
      "INFO:tensorflow:loss = 12.642715, step = 1001 (0.206 sec)\n",
      "INFO:tensorflow:global_step/sec: 523.223\n",
      "INFO:tensorflow:loss = 13.526007, step = 1101 (0.192 sec)\n",
      "INFO:tensorflow:global_step/sec: 485.213\n",
      "INFO:tensorflow:loss = 15.223218, step = 1201 (0.205 sec)\n",
      "INFO:tensorflow:global_step/sec: 466.026\n",
      "INFO:tensorflow:loss = 7.7454023, step = 1301 (0.214 sec)\n",
      "INFO:tensorflow:global_step/sec: 517.811\n",
      "INFO:tensorflow:loss = 11.740746, step = 1401 (0.193 sec)\n",
      "INFO:tensorflow:global_step/sec: 534.377\n",
      "INFO:tensorflow:loss = 8.771109, step = 1501 (0.188 sec)\n",
      "INFO:tensorflow:global_step/sec: 546.029\n",
      "INFO:tensorflow:loss = 10.214844, step = 1601 (0.185 sec)\n",
      "INFO:tensorflow:global_step/sec: 517.81\n",
      "INFO:tensorflow:loss = 7.018109, step = 1701 (0.192 sec)\n",
      "INFO:tensorflow:global_step/sec: 453.376\n",
      "INFO:tensorflow:loss = 10.336805, step = 1801 (0.221 sec)\n",
      "INFO:tensorflow:global_step/sec: 532.961\n",
      "INFO:tensorflow:loss = 7.439143, step = 1901 (0.188 sec)\n",
      "INFO:tensorflow:global_step/sec: 426.366\n",
      "INFO:tensorflow:loss = 6.144556, step = 2001 (0.235 sec)\n",
      "INFO:tensorflow:global_step/sec: 473.74\n",
      "INFO:tensorflow:loss = 8.717194, step = 2101 (0.212 sec)\n",
      "INFO:tensorflow:global_step/sec: 472.625\n",
      "INFO:tensorflow:loss = 8.660929, step = 2201 (0.212 sec)\n",
      "INFO:tensorflow:global_step/sec: 511.21\n",
      "INFO:tensorflow:loss = 10.006061, step = 2301 (0.194 sec)\n",
      "INFO:tensorflow:global_step/sec: 535.8\n",
      "INFO:tensorflow:loss = 4.49729, step = 2401 (0.190 sec)\n",
      "INFO:tensorflow:global_step/sec: 471.515\n",
      "INFO:tensorflow:loss = 14.312762, step = 2501 (0.210 sec)\n",
      "INFO:tensorflow:global_step/sec: 497.252\n",
      "INFO:tensorflow:loss = 6.543845, step = 2601 (0.201 sec)\n",
      "INFO:tensorflow:global_step/sec: 525.963\n",
      "INFO:tensorflow:loss = 7.661356, step = 2701 (0.192 sec)\n",
      "INFO:tensorflow:global_step/sec: 466.031\n",
      "INFO:tensorflow:loss = 4.79035, step = 2801 (0.213 sec)\n",
      "INFO:tensorflow:global_step/sec: 487.567\n",
      "INFO:tensorflow:loss = 7.41565, step = 2901 (0.207 sec)\n",
      "INFO:tensorflow:global_step/sec: 421.88\n",
      "INFO:tensorflow:loss = 7.8193507, step = 3001 (0.237 sec)\n",
      "INFO:tensorflow:global_step/sec: 532.957\n",
      "INFO:tensorflow:loss = 9.417114, step = 3101 (0.189 sec)\n",
      "INFO:tensorflow:global_step/sec: 481.711\n",
      "INFO:tensorflow:loss = 6.7885933, step = 3201 (0.206 sec)\n",
      "INFO:tensorflow:global_step/sec: 485.215\n",
      "INFO:tensorflow:loss = 10.801254, step = 3301 (0.206 sec)\n",
      "INFO:tensorflow:global_step/sec: 534.38\n",
      "INFO:tensorflow:loss = 6.8917565, step = 3401 (0.188 sec)\n",
      "INFO:tensorflow:global_step/sec: 537.242\n",
      "INFO:tensorflow:loss = 13.20502, step = 3501 (0.186 sec)\n",
      "INFO:tensorflow:global_step/sec: 521.854\n",
      "INFO:tensorflow:loss = 4.863096, step = 3601 (0.196 sec)\n",
      "INFO:tensorflow:global_step/sec: 472.623\n",
      "INFO:tensorflow:loss = 6.796872, step = 3701 (0.207 sec)\n",
      "INFO:tensorflow:global_step/sec: 430.953\n",
      "INFO:tensorflow:loss = 6.3578677, step = 3801 (0.232 sec)\n",
      "INFO:tensorflow:global_step/sec: 532.954\n",
      "INFO:tensorflow:loss = 6.398925, step = 3901 (0.187 sec)\n",
      "INFO:tensorflow:Saving checkpoints for 4000 into C:\\Users\\camp-pry\\AppData\\Local\\Temp\\tmpm6xq0io5\\model.ckpt.\n",
      "INFO:tensorflow:Loss for final step: 6.121472.\n"
     ]
    },
    {
     "data": {
      "text/plain": [
       "<tensorflow.python.estimator.canned.dnn.DNNClassifier at 0x274fab45860>"
      ]
     },
     "execution_count": 7,
     "metadata": {},
     "output_type": "execute_result"
    }
   ],
   "source": [
    "classifier = tf.estimator.DNNClassifier(\n",
    "       feature_columns = iris_feature_columns,\n",
    "       hidden_units = [5, 5],\n",
    "       n_classes = 3)\n",
    "\n",
    "\n",
    "# Define the training inputs\n",
    "train_input_fn = tf.estimator.inputs.numpy_input_fn(\n",
    "    x = x,\n",
    "    y = np.array(training_df[LABEL]).astype(int),\n",
    "    num_epochs = None,\n",
    "    shuffle = True)\n",
    "\n",
    "# Train model.\n",
    "classifier.train(input_fn = train_input_fn, steps = 4000)"
   ]
  },
  {
   "cell_type": "code",
   "execution_count": 8,
   "metadata": {},
   "outputs": [
    {
     "name": "stdout",
     "output_type": "stream",
     "text": [
      "INFO:tensorflow:Calling model_fn.\n",
      "INFO:tensorflow:Done calling model_fn.\n",
      "INFO:tensorflow:Starting evaluation at 2018-07-27-07:16:29\n",
      "INFO:tensorflow:Graph was finalized.\n",
      "INFO:tensorflow:Restoring parameters from C:\\Users\\camp-pry\\AppData\\Local\\Temp\\tmpm6xq0io5\\model.ckpt-4000\n",
      "INFO:tensorflow:Running local_init_op.\n",
      "INFO:tensorflow:Done running local_init_op.\n",
      "INFO:tensorflow:Finished evaluation at 2018-07-27-07:16:29\n",
      "INFO:tensorflow:Saving dict for global step 4000: accuracy = 0.96666664, average_loss = 0.062627286, global_step = 4000, loss = 1.8788185\n",
      "INFO:tensorflow:Saving 'checkpoint_path' summary for global step 4000: C:\\Users\\camp-pry\\AppData\\Local\\Temp\\tmpm6xq0io5\\model.ckpt-4000\n",
      "Test Accuracy:  0.96666664\n"
     ]
    }
   ],
   "source": [
    "x = {\n",
    "    FEATURE_SEPAL_LENGTH : np.array(test_df[FEATURE_SEPAL_LENGTH]),\n",
    "    FEATURE_SEPAL_WIDTH  : np.array(test_df[FEATURE_SEPAL_WIDTH]),\n",
    "    FEATURE_PETAL_LENGTH : np.array(test_df[FEATURE_PETAL_LENGTH]),\n",
    "    FEATURE_PETAL_WIDTH  : np.array(test_df[FEATURE_PETAL_WIDTH])\n",
    "}\n",
    "\n",
    "# Define the training inputs\n",
    "test_input_fn = tf.estimator.inputs.numpy_input_fn(\n",
    "    x = x,\n",
    "    y = np.array(test_df[LABEL]).astype(int),\n",
    "    num_epochs = 1,\n",
    "    shuffle = False)\n",
    "\n",
    "# Evaluate accuracy.\n",
    "accuracy_score = classifier.evaluate(input_fn=test_input_fn)[\"accuracy\"]\n",
    "\n",
    "print(\"Test Accuracy: \", accuracy_score)"
   ]
  },
  {
   "cell_type": "code",
   "execution_count": 9,
   "metadata": {},
   "outputs": [
    {
     "name": "stdout",
     "output_type": "stream",
     "text": [
      "INFO:tensorflow:Calling model_fn.\n",
      "INFO:tensorflow:Done calling model_fn.\n",
      "INFO:tensorflow:Graph was finalized.\n",
      "INFO:tensorflow:Restoring parameters from C:\\Users\\camp-pry\\AppData\\Local\\Temp\\tmpm6xq0io5\\model.ckpt-4000\n",
      "INFO:tensorflow:Running local_init_op.\n",
      "INFO:tensorflow:Done running local_init_op.\n",
      "\n",
      "Prediction is \"0\" (certainity 97.9%), expected \"0\"\n",
      "\n",
      "Prediction is \"1\" (certainity 99.9%), expected \"1\"\n",
      "\n",
      "Prediction is \"2\" (certainity 99.9%), expected \"2\"\n"
     ]
    }
   ],
   "source": [
    "x = {\n",
    "    FEATURE_SEPAL_LENGTH : np.array([5.0, 6.7, 7.4]),\n",
    "    FEATURE_SEPAL_WIDTH  : np.array([3.5, 3.1, 2.8]),\n",
    "    FEATURE_PETAL_LENGTH : np.array([1.3, 4.4, 6.1]),\n",
    "    FEATURE_PETAL_WIDTH  : np.array([0.3, 1.4, 1.9])\n",
    "}\n",
    "\n",
    "expected = np.array([0, 1, 2])\n",
    "\n",
    "# Define the training inputs\n",
    "predict_input_fn = tf.estimator.inputs.numpy_input_fn(\n",
    "    x = x,\n",
    "    num_epochs = 1,\n",
    "    shuffle = False)\n",
    "\n",
    "predictions = classifier.predict(input_fn = predict_input_fn)\n",
    "\n",
    "for pred_dict, expec in zip(predictions, expected):\n",
    "    class_id = pred_dict['class_ids'][0]\n",
    "    probability = pred_dict['probabilities'][class_id]\n",
    "\n",
    "    print('\\nPrediction is \"{}\" (certainity {:.1f}%), expected \"{}\"'.format(class_id, 100 * probability, expec))\n"
   ]
  },
  {
   "cell_type": "code",
   "execution_count": 10,
   "metadata": {},
   "outputs": [
    {
     "name": "stdout",
     "output_type": "stream",
     "text": [
      "INFO:tensorflow:Calling model_fn.\n",
      "INFO:tensorflow:Done calling model_fn.\n",
      "INFO:tensorflow:Signatures INCLUDED in export for Classify: ['serving_default', 'classification']\n",
      "INFO:tensorflow:Signatures INCLUDED in export for Regress: None\n",
      "INFO:tensorflow:Signatures INCLUDED in export for Predict: ['predict']\n",
      "INFO:tensorflow:Signatures INCLUDED in export for Train: None\n",
      "INFO:tensorflow:Signatures INCLUDED in export for Eval: None\n",
      "INFO:tensorflow:Restoring parameters from C:\\Users\\camp-pry\\AppData\\Local\\Temp\\tmpm6xq0io5\\model.ckpt-4000\n",
      "INFO:tensorflow:Assets added to graph.\n",
      "INFO:tensorflow:No assets to write.\n",
      "INFO:tensorflow:SavedModel written to: stored_model\\temp-b'1532676921'\\saved_model.pbtxt\n",
      "Model exported to stored_model\\1532676921\n"
     ]
    }
   ],
   "source": [
    "def serving_input_receiver_fn():\n",
    "    serialized_tf_example = tf.placeholder(dtype = tf.string, shape = [None], name = 'input_tensors')\n",
    "    receiver_tensors      = {'predictor_inputs' : serialized_tf_example}\n",
    "    feature_spec          = {FEATURE_SEPAL_LENGTH : tf.FixedLenFeature([25], tf.float32),\n",
    "                             FEATURE_SEPAL_WIDTH  : tf.FixedLenFeature([25], tf.float32),\n",
    "                             FEATURE_PETAL_LENGTH : tf.FixedLenFeature([25], tf.float32),\n",
    "                             FEATURE_PETAL_WIDTH  : tf.FixedLenFeature([25], tf.float32)}\n",
    "    features              = tf.parse_example(serialized_tf_example, feature_spec)\n",
    "    return tf.estimator.export.ServingInputReceiver(features, receiver_tensors)\n",
    "\n",
    "\n",
    "model_dir = classifier.export_savedmodel(export_dir_base = \"stored_model\", \n",
    "                             serving_input_receiver_fn = serving_input_receiver_fn,\n",
    "                             as_text = True)\n",
    "print('Model exported to '+ model_dir.decode())"
   ]
  }
 ],
 "metadata": {
  "kernelspec": {
   "display_name": "Python 3",
   "language": "python",
   "name": "python3"
  },
  "language_info": {
   "codemirror_mode": {
    "name": "ipython",
    "version": 3
   },
   "file_extension": ".py",
   "mimetype": "text/x-python",
   "name": "python",
   "nbconvert_exporter": "python",
   "pygments_lexer": "ipython3",
   "version": "3.6.6"
  }
 },
 "nbformat": 4,
 "nbformat_minor": 2
}
